{
 "cells": [
  {
   "cell_type": "code",
   "execution_count": 6,
   "id": "be11e388",
   "metadata": {},
   "outputs": [
    {
     "name": "stdout",
     "output_type": "stream",
     "text": [
      "Hello, I am a Student!\n",
      "Hello, I am Madinabonu Jaloldinova my index number is 35485 \n"
     ]
    }
   ],
   "source": [
    "class Student:\n",
    "  def hello(self):\n",
    "    print(\"Hello, I am a Student!\")\n",
    "\n",
    "student1=Student()\n",
    "student1.hello()\n",
    "\n",
    "\n",
    "class Student:\n",
    "  def __init__(self, name, index):\n",
    "    self.name = name\n",
    "    self.index = index \n",
    "\n",
    "  def hello (self):\n",
    "    print(f\"Hello, I am {self.name} my index number is {self.index} \")\n",
    "\n",
    "student2= Student(\"Madinabonu Jaloldinova\", 35485)\n",
    "student2.hello() "
   ]
  },
  {
   "cell_type": "code",
   "execution_count": null,
   "id": "8ecc7504",
   "metadata": {},
   "outputs": [],
   "source": []
  }
 ],
 "metadata": {
  "kernelspec": {
   "display_name": "Python 3",
   "language": "python",
   "name": "python3"
  },
  "language_info": {
   "codemirror_mode": {
    "name": "ipython",
    "version": 3
   },
   "file_extension": ".py",
   "mimetype": "text/x-python",
   "name": "python",
   "nbconvert_exporter": "python",
   "pygments_lexer": "ipython3",
   "version": "3.12.1"
  }
 },
 "nbformat": 4,
 "nbformat_minor": 5
}
