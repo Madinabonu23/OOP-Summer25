{
 "cells": [
  {
   "cell_type": "markdown",
   "id": "4e084d16",
   "metadata": {},
   "source": [
    "## Inheritance "
   ]
  },
  {
   "cell_type": "code",
   "execution_count": null,
   "id": "efd30c66",
   "metadata": {
    "vscode": {
     "languageId": "plaintext"
    }
   },
   "outputs": [],
   "source": [
    " # Base Class\n",
    "class Publication:\n",
    "    def __init__(self, title, author_publisher):\n",
    "        self.title = title\n",
    "        self.author_publisher = author_publisher\n",
    "\n",
    "    def display_info(self):\n",
    "        \"\"\"Displays information based on the publication type.\"\"\"\n",
    "        print(f\"Title: {self.title}\")\n",
    "        print(f\"Author/Publisher: {self.author_publisher}\")\n",
    "\n",
    "# Book Class\n",
    "class Book(Publication):\n",
    "    def __init__(self, title, author, isbn):\n",
    "        super().__init__(title, author)\n",
    "        self.isbn = isbn\n",
    "\n",
    "    def display_info(self): # Method overriding (polymorphism)\n",
    "        super().display_info() # Call the base class method\n",
    "        print(f\"Type: Book\")\n",
    "        print(f\"ISBN: {self.isbn}\")\n",
    "\n",
    "# Magazine Class\n",
    "class Magazine(Publication):\n",
    "    def __init__(self, title, publisher, issue_no):\n",
    "        super().__init__(title, publisher)\n",
    "        self.issue_no = issue_no\n",
    "\n",
    "    def display_info(self): # Method overriding (polymorphism)\n",
    "        super().display_info() # Call the base class method\n",
    "        print(f\"Type: Magazine\")\n",
    "        print(f\"Issue No: {self.issue_no}\")\n",
    "\n",
    "# Demonstrate polymorphism with a common function\n",
    "def print_publication_details(publication_object):\n",
    "    \"\"\"Polymorphically displays details of different publication types.\"\"\"\n",
    "    print(\"--- Publication Details ---\")\n",
    "    publication_object.display_info()\n",
    "    print(\"---------------------------\")\n",
    "\n",
    "# Create Objects\n",
    "book_object = Book(\"The Lord of the Rings\", \"J.R.R. Tolkien\", \"978-0618053267\")\n",
    "magazine_object = Magazine(\"National Geographic\", \"National Geographic Society\", 500)\n",
    "\n",
    "# Call the polymorphic function with different objects\n",
    "print_publication_details(book_object)\n",
    "print_publication_details(magazine_object)"
   ]
  }
 ],
 "metadata": {
  "language_info": {
   "name": "python"
  }
 },
 "nbformat": 4,
 "nbformat_minor": 5
}
