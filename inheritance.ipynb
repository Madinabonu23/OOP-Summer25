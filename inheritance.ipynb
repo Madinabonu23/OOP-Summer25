{
 "cells": [
  {
   "cell_type": "markdown",
   "id": "b311434c",
   "metadata": {},
   "source": [
    "## Inheritance "
   ]
  },
  {
   "cell_type": "markdown",
   "id": "e023f5c3",
   "metadata": {},
   "source": [
    "## A parent class "
   ]
  },
  {
   "cell_type": "code",
   "execution_count": 6,
   "id": "ac1aff4b",
   "metadata": {},
   "outputs": [
    {
     "name": "stdout",
     "output_type": "stream",
     "text": [
      "Meow\n"
     ]
    }
   ],
   "source": [
    "class Animal:\n",
    "    def give_sound(self,sound):\n",
    "        print(sound)\n",
    "\n",
    "my_animal = Animal()\n",
    "my_animal.give_sound(\"Meow\")"
   ]
  },
  {
   "cell_type": "markdown",
   "id": "96d43b5b",
   "metadata": {},
   "source": [
    "## Child class "
   ]
  },
  {
   "cell_type": "code",
   "execution_count": 7,
   "id": "a31ee6c2",
   "metadata": {},
   "outputs": [
    {
     "name": "stdout",
     "output_type": "stream",
     "text": [
      "Meow\n"
     ]
    }
   ],
   "source": [
    "class Cat(Animal):\n",
    "    def meow(self):\n",
    "        self.give_sound(\"Meow\")\n",
    "\n",
    "\n",
    "my_cat = Cat()\n",
    "my_cat.meow()"
   ]
  },
  {
   "cell_type": "markdown",
   "id": "1a2df72d",
   "metadata": {},
   "source": [
    "## A parent class "
   ]
  },
  {
   "cell_type": "code",
   "execution_count": 8,
   "id": "e97462e7",
   "metadata": {},
   "outputs": [],
   "source": [
    "class Person:\n",
    "    def __init__(self, first_name, last_name):\n",
    "        self.first_name = first_name\n",
    "        self.last_name = last_name "
   ]
  },
  {
   "cell_type": "markdown",
   "id": "30f4c475",
   "metadata": {},
   "source": [
    "## A child class "
   ]
  },
  {
   "cell_type": "code",
   "execution_count": 9,
   "id": "f74ffbde",
   "metadata": {},
   "outputs": [
    {
     "name": "stdout",
     "output_type": "stream",
     "text": [
      "Name: Madinabonu Jaloldinova, index: 35485\n"
     ]
    }
   ],
   "source": [
    "## student class without inheritance \n",
    "class Student:\n",
    "    def __init__(self, first_name, last_name, index_number):\n",
    "        self.first_name = first_name\n",
    "        self.last_name = last_name\n",
    "        self.index_number = index_number \n",
    "\n",
    "    def display_info(self):\n",
    "        print(f\"Name: {self.first_name} {self.last_name}, index: {self.index_number}\")\n",
    "\n",
    "\n",
    "student1 = Student('Madinabonu', 'Jaloldinova', '35485')\n",
    "\n",
    "student1.display_info()"
   ]
  },
  {
   "cell_type": "markdown",
   "id": "83603762",
   "metadata": {},
   "source": [
    "## Student class with inheritance (as child class )"
   ]
  },
  {
   "cell_type": "code",
   "execution_count": 10,
   "id": "f83f7ac5",
   "metadata": {},
   "outputs": [
    {
     "name": "stdout",
     "output_type": "stream",
     "text": [
      "Name: Madinabonu Jaloldinova, index: 35485\n"
     ]
    }
   ],
   "source": [
    "class Student(Person):\n",
    "    def __init__(self, first_name, last_name, index_number):\n",
    "        super().__init__(first_name, last_name)\n",
    "        self.index_number = index_number \n",
    "\n",
    "    def display_info(self):\n",
    "        print(f\"Name: {self.first_name} {self.last_name}, index: {self.index_number}\")\n",
    "\n",
    "\n",
    "student1 = Student('Madinabonu', 'Jaloldinova', '35485')\n",
    "\n",
    "student1.display_info()"
   ]
  }
 ],
 "metadata": {
  "kernelspec": {
   "display_name": "Python 3",
   "language": "python",
   "name": "python3"
  },
  "language_info": {
   "codemirror_mode": {
    "name": "ipython",
    "version": 3
   },
   "file_extension": ".py",
   "mimetype": "text/x-python",
   "name": "python",
   "nbconvert_exporter": "python",
   "pygments_lexer": "ipython3",
   "version": "3.12.1"
  }
 },
 "nbformat": 4,
 "nbformat_minor": 5
}
